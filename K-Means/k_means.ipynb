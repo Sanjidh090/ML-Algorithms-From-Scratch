{
  "nbformat": 4,
  "nbformat_minor": 0,
  "metadata": {
    "colab": {
      "provenance": [],
      "gpuType": "V28"
    },
    "kernelspec": {
      "name": "python3",
      "display_name": "Python 3"
    },
    "language_info": {
      "name": "python"
    },
    "accelerator": "TPU"
  },
  "cells": [
    {
      "cell_type": "markdown",
      "source": [
        "# K-Means\n",
        "- This notebook contains the code to implement the K-means algorithm from scratch using `Lloyd's Algorithm`\n",
        "- K-Means is an `Unsupervised Learning` algorithm\n",
        "- K-means is a `Clustering` algorithm\n",
        "- This implementation will initialize the centroids randomly\n",
        "- Also, we will evaluate the model using `Elbow Method`"
      ],
      "metadata": {
        "id": "0TRZFNWqjn69"
      }
    },
    {
      "cell_type": "markdown",
      "source": [
        "## Importing Libraries"
      ],
      "metadata": {
        "id": "f-awEGiGk3yQ"
      }
    },
    {
      "cell_type": "code",
      "execution_count": 61,
      "metadata": {
        "id": "Pkqzmtt3jfXa"
      },
      "outputs": [],
      "source": [
        "# data manipulation\n",
        "import numpy as np\n",
        "import pandas as pd\n",
        "\n",
        "# visualization\n",
        "import matplotlib.pyplot as plt\n",
        "\n",
        "# dataset\n",
        "from sklearn.datasets import make_blobs\n",
        "from sklearn.model_selection import train_test_split\n",
        "\n",
        "# pre=processing\n",
        "from sklearn.preprocessing import StandardScaler"
      ]
    },
    {
      "cell_type": "markdown",
      "source": [
        "## Custom Class"
      ],
      "metadata": {
        "id": "euXTNbomlYSR"
      }
    },
    {
      "cell_type": "code",
      "source": [
        "class KMeans:\n",
        "\n",
        "  def __init__(self,\n",
        "               n_clusters=5,\n",
        "               n_iter=100,\n",
        "               tol=1e-4,\n",
        "               random_state=None):\n",
        "    \"\"\"\n",
        "    Parameters:\n",
        "    -----------\n",
        "\n",
        "    n_clusters: int\n",
        "                Number of clusters to find in the dataset\n",
        "\n",
        "    n_iter: int\n",
        "            Max. no. of iterations to run the algorithm\n",
        "\n",
        "    tol: float\n",
        "         To check for convergence of the algorithm\n",
        "\n",
        "    random_state: int\n",
        "                  To control randomness and reproducibility of results across multiple runs\n",
        "    \"\"\"\n",
        "    self.n_clusters = n_clusters\n",
        "    self.n_iter = n_iter\n",
        "    self.tol = tol\n",
        "    self.random_state = random_state\n",
        "\n",
        "\n",
        "  def _euclidean_distance(self, a, b):\n",
        "    return np.sqrt(np.sum((a - b) ** 2))\n",
        "\n",
        "\n",
        "  def _initalize_centroids(self, X):\n",
        "    # random initialization\n",
        "    indices = np.random.choice(X.shape[0],\n",
        "                               size=self.n_clusters,\n",
        "                               replace=False)\n",
        "    return X[indices, :]\n",
        "\n",
        "\n",
        "  def _display_training(self):\n",
        "    plt.figure(figsize=(6, 4))\n",
        "    plt.plot(range(1, len(self.inertias_) + 1),\n",
        "             self.inertias_,\n",
        "             linewidth=2)\n",
        "    plt.xlabel(\"No. of Iterations\")\n",
        "    plt.ylabel(\"Inertia\")\n",
        "    plt.title(\"Lloyd's Algorithm\")\n",
        "    plt.grid(True)\n",
        "    plt.tight_layout()\n",
        "    plt.show()\n",
        "\n",
        "\n",
        "  def fit(self, X, y=None):\n",
        "    \"\"\"\n",
        "    This method will train a K-Means model\n",
        "    \"\"\"\n",
        "\n",
        "    if self.random_state:\n",
        "      np.random.seed(self.random_state)\n",
        "\n",
        "    n = X.shape[0]\n",
        "    self.inertias_ = []\n",
        "    self.n_features_in_ = X.shape[1]\n",
        "    self.centroids_ = self._initalize_centroids(X)\n",
        "    self.labels_ = None\n",
        "    self.inertia_ = np.inf\n",
        "\n",
        "    for i in range(self.n_iter):\n",
        "      inertia = 0\n",
        "      # assigning clusters\n",
        "      labels = np.empty(n, dtype=int)\n",
        "      for j, x in enumerate(X):\n",
        "        distances = [self._euclidean_distance(x, centroid)\n",
        "                     for centroid in self.centroids_]\n",
        "        index = np.argmin(distances)\n",
        "        labels[j] = index\n",
        "        distance = distances[index]\n",
        "        inertia += distance\n",
        "      inertia /= n\n",
        "\n",
        "      # checking convergence\n",
        "      if np.abs(self.inertia_ - inertia) <= self.tol:\n",
        "        print(f\"> The algorithm converged in {i + 1} iterations\")\n",
        "        self.labels_ = labels\n",
        "        break\n",
        "      self.labels_ = labels\n",
        "      self.inertia_ = inertia\n",
        "      self.inertias_.append(inertia)\n",
        "\n",
        "      # updating centroids\n",
        "      for label in np.unique(self.labels_):\n",
        "        subset = X[self.labels_ == label]\n",
        "        self.centroids_[label] = np.mean(subset, axis=0)\n",
        "\n",
        "    if i == self.n_iter - 1:\n",
        "      print(f\"> The algorithm ran all {self.n_iter} iterations\")\n",
        "    print(\"> Successfully trained the K-Means model\\n\")\n",
        "\n",
        "    return self\n",
        "\n",
        "\n",
        "  def transform(self, X):\n",
        "    result = np.array([\n",
        "        [self._euclidean_distance(x, centroid) for centroid in self.centroids_]\n",
        "        for x in X\n",
        "    ])\n",
        "    return result\n",
        "\n",
        "\n",
        "\n",
        "  def predict(self, X):\n",
        "    return np.argmin(self.transform(X), axis=1)"
      ],
      "metadata": {
        "id": "V-BJashNk-Gl"
      },
      "execution_count": 62,
      "outputs": []
    },
    {
      "cell_type": "markdown",
      "source": [
        "## Getting the Data"
      ],
      "metadata": {
        "id": "t4-54voapMbb"
      }
    },
    {
      "cell_type": "code",
      "source": [
        "X, y = make_blobs(n_samples=5000,\n",
        "                  n_features=50,\n",
        "                  centers=6,\n",
        "                  cluster_std=1.0,\n",
        "\n",
        "                  center_box=(-10.0, 10.0),\n",
        "                  shuffle=True,\n",
        "                  random_state=42)"
      ],
      "metadata": {
        "id": "UkTq8ckdlzlH"
      },
      "execution_count": 63,
      "outputs": []
    },
    {
      "cell_type": "code",
      "source": [
        "plt.figure(figsize=(6, 4))\n",
        "plt.scatter(X[:, 0], X[:, 1])\n",
        "plt.xlabel(\"$x1$\")\n",
        "plt.ylabel(\"$x2$\", rotation=0, labelpad=10)\n",
        "plt.tight_layout()\n",
        "plt.show()"
      ],
      "metadata": {
        "colab": {
          "base_uri": "https://localhost:8080/",
          "height": 407
        },
        "id": "Ue6KqX9ppS_9",
        "outputId": "dd71eeda-7e43-4e7c-ac12-3d4f3cb39ebc"
      },
      "execution_count": 64,
      "outputs": [
        {
          "output_type": "display_data",
          "data": {
            "text/plain": [
              "<Figure size 600x400 with 1 Axes>"
            ],
            "image/png": "[encoded data removed]"
          },
          "metadata": {}
        }
      ]
    },
    {
      "cell_type": "markdown",
      "source": [
        "## Scaling the Data"
      ],
      "metadata": {
        "id": "rKGgqgP3p85D"
      }
    },
    {
      "cell_type": "code",
      "source": [
        "scaler = StandardScaler()\n",
        "X_scaled = scaler.fit_transform(X)"
      ],
      "metadata": {
        "id": "w7lmBQIspcxm"
      },
      "execution_count": 65,
      "outputs": []
    },
    {
      "cell_type": "markdown",
      "source": [
        "## Training the Model"
      ],
      "metadata": {
        "id": "avGzJYqlqOm1"
      }
    },
    {
      "cell_type": "code",
      "source": [
        "kmeans = KMeans(n_clusters=4)\n",
        "kmeans.fit(X_scaled)"
      ],
      "metadata": {
        "colab": {
          "base_uri": "https://localhost:8080/"
        },
        "id": "WdS2mEMuqAIX",
        "outputId": "03feb539-9f75-4e68-8290-9fb434158c5a"
      },
      "execution_count": 66,
      "outputs": [
        {
          "output_type": "stream",
          "name": "stdout",
          "text": [
            "> The algorithm converged in 4 iterations\n",
            "> Successfully trained the K-Means model\n",
            "\n"
          ]
        },
        {
          "output_type": "execute_result",
          "data": {
            "text/plain": [
              "<__main__.KMeans at 0x7ea38f8e1190>"
            ]
          },
          "metadata": {},
          "execution_count": 66
        }
      ]
    },
    {
      "cell_type": "code",
      "source": [
        "kmeans.centroids_"
      ],
      "metadata": {
        "colab": {
          "base_uri": "https://localhost:8080/"
        },
        "id": "BzHKZzBzqKl1",
        "outputId": "d37523a0-fc21-496d-aecc-f2b2dcb98361"
      },
      "execution_count": 67,
      "outputs": [
        {
          "output_type": "execute_result",
          "data": {
            "text/plain": [
              "array([[ 3.06898433e-01, -1.39065147e+00, -1.09501598e+00,\n",
              "         1.28132679e+00,  1.12932599e-01, -1.13731547e+00,\n",
              "        -8.24009283e-01,  3.05539734e-02, -1.17038814e+00,\n",
              "        -6.83926680e-01,  8.91398166e-01,  2.18544487e-01,\n",
              "        -7.05876996e-02, -1.03030152e+00,  8.41639062e-01,\n",
              "        -1.18663218e+00, -4.40206520e-01,  8.55226288e-01,\n",
              "         7.95662307e-01,  9.78847833e-01, -7.33095111e-01,\n",
              "         3.75246694e-01, -8.82107716e-01, -3.32285472e-01,\n",
              "        -1.10452931e+00, -9.99506698e-01,  1.07314445e+00,\n",
              "        -3.47676706e-01,  9.57645317e-01,  8.76392809e-01,\n",
              "         6.54321550e-01,  9.20643487e-01,  6.00750536e-01,\n",
              "         5.97701248e-02, -1.08424439e+00,  8.77641473e-01,\n",
              "        -1.14601612e+00, -1.49366834e+00,  3.74314461e-01,\n",
              "        -1.15594651e+00,  1.37051557e+00,  1.17933760e+00,\n",
              "         8.23166555e-01, -7.06330171e-01, -1.17224690e+00,\n",
              "         1.54695273e+00, -7.79734126e-01,  1.41211187e+00,\n",
              "         1.20711474e+00,  1.47759665e+00],\n",
              "       [ 1.27768813e+00,  8.56823827e-01,  1.25641958e+00,\n",
              "         1.26524210e+00,  8.89808707e-02,  1.85506339e+00,\n",
              "        -8.62138791e-01, -2.07976979e+00, -9.90991083e-01,\n",
              "        -9.08271287e-02,  8.41527435e-02, -1.08591661e+00,\n",
              "         6.09486974e-01, -4.01615872e-01, -6.12706181e-01,\n",
              "        -9.81437599e-02, -1.20265145e+00,  1.07144306e+00,\n",
              "        -1.09443793e+00,  1.49214769e+00,  5.57474933e-01,\n",
              "        -6.93601289e-01, -1.18782134e+00,  1.16685556e+00,\n",
              "         1.28328358e+00,  1.08714491e+00,  2.50231971e-01,\n",
              "        -1.63521750e+00, -6.87291035e-01, -8.91190481e-01,\n",
              "         9.53962006e-01,  1.55122456e+00, -2.30975057e-01,\n",
              "        -1.15600647e+00, -7.27484981e-01, -5.61169174e-01,\n",
              "         1.02271634e+00,  7.82211579e-01,  1.54495441e+00,\n",
              "        -5.09342850e-02, -6.32683614e-01,  4.55281258e-01,\n",
              "         3.40269167e-01,  1.88158358e-01,  1.94832036e+00,\n",
              "        -1.96935153e-02, -2.36714144e-01, -5.93488245e-01,\n",
              "        -1.33077524e+00, -8.63682303e-01],\n",
              "       [-1.09989294e+00, -5.83094400e-03,  1.78786597e-01,\n",
              "        -9.28278070e-01, -9.58198197e-02,  1.51304095e-01,\n",
              "         8.79300857e-01,  3.08326737e-01,  5.05503838e-01,\n",
              "        -9.43969686e-01,  4.00498978e-01, -1.37751770e-01,\n",
              "        -5.08760839e-01,  1.03905379e+00,  9.86484390e-01,\n",
              "         8.52456405e-01,  1.32277742e+00, -3.14425756e-01,\n",
              "         7.10591181e-01, -6.69624082e-01,  9.27099857e-01,\n",
              "         1.21250452e+00,  8.52940013e-01,  1.48472841e-01,\n",
              "        -5.35455881e-01, -5.86430249e-02,  4.01270674e-01,\n",
              "         1.10872687e+00, -6.99627451e-01,  9.70716565e-01,\n",
              "         9.09615855e-03, -2.43874406e-01, -5.14473963e-01,\n",
              "        -7.23550048e-01,  6.78616031e-01, -1.08066461e+00,\n",
              "        -1.35848876e-01,  7.24891335e-01, -1.15667910e+00,\n",
              "         1.13148708e+00,  2.93047367e-01, -1.22856690e+00,\n",
              "         1.63642084e-02, -8.94906590e-01, -3.87851861e-01,\n",
              "        -7.86331387e-01,  7.55822227e-01, -8.55092210e-01,\n",
              "        -4.79769056e-01, -6.21156788e-01],\n",
              "       [ 3.06648680e-01,  2.72067161e-01, -2.60086435e-01,\n",
              "        -3.45558405e-01, -5.18721162e-03, -5.10984826e-01,\n",
              "        -3.56879080e-02,  7.17099102e-01,  5.75435205e-01,\n",
              "         1.33060243e+00, -8.87792056e-01,  5.71746459e-01,\n",
              "         2.38802025e-01, -3.22660357e-01, -1.09992284e+00,\n",
              "        -2.09883545e-01, -5.00326234e-01, -6.49162385e-01,\n",
              "        -5.60210184e-01, -5.66429333e-01, -8.39120713e-01,\n",
              "        -1.05227927e+00,  1.82627873e-01, -5.66118471e-01,\n",
              "         4.45041336e-01,  1.41628698e-02, -1.06247135e+00,\n",
              "        -1.16228481e-01,  5.64524000e-01, -9.62205246e-01,\n",
              "        -8.13322354e-01, -9.92395049e-01,  3.29527069e-01,\n",
              "         1.27159884e+00,  2.27548735e-01,  9.22211746e-01,\n",
              "         1.96766781e-01, -3.69410734e-01,  1.95999679e-01,\n",
              "        -5.27699366e-01, -6.61186709e-01,  4.10737655e-01,\n",
              "        -5.97927413e-01,  1.15318737e+00, -1.35351698e-03,\n",
              "         2.26999762e-02, -2.47307562e-01,  4.45869005e-01,\n",
              "         5.42072714e-01,  3.14529236e-01]])"
            ]
          },
          "metadata": {},
          "execution_count": 67
        }
      ]
    },
    {
      "cell_type": "code",
      "source": [
        "kmeans.inertia_"
      ],
      "metadata": {
        "colab": {
          "base_uri": "https://localhost:8080/"
        },
        "id": "kDCEQZYvqVJt",
        "outputId": "2ca4700b-9279-403f-c4ad-74bc945cd889"
      },
      "execution_count": 68,
      "outputs": [
        {
          "output_type": "execute_result",
          "data": {
            "text/plain": [
              "np.float64(3.9210308008073764)"
            ]
          },
          "metadata": {},
          "execution_count": 68
        }
      ]
    },
    {
      "cell_type": "code",
      "source": [
        "kmeans.inertias_"
      ],
      "metadata": {
        "colab": {
          "base_uri": "https://localhost:8080/"
        },
        "id": "mu-Gdof7qbty",
        "outputId": "68b5095c-49d8-4a26-e6ae-acc9134ba735"
      },
      "execution_count": 69,
      "outputs": [
        {
          "output_type": "execute_result",
          "data": {
            "text/plain": [
              "[np.float64(5.957822047674311),\n",
              " np.float64(4.085928493034919),\n",
              " np.float64(3.9210308008073764)]"
            ]
          },
          "metadata": {},
          "execution_count": 69
        }
      ]
    },
    {
      "cell_type": "code",
      "source": [
        "kmeans._display_training()"
      ],
      "metadata": {
        "colab": {
          "base_uri": "https://localhost:8080/",
          "height": 407
        },
        "id": "erTvD-ywuvl-",
        "outputId": "297092ec-a1bf-46d2-9d1a-b617b416efb6"
      },
      "execution_count": 70,
      "outputs": [
        {
          "output_type": "display_data",
          "data": {
            "text/plain": [
              "<Figure size 600x400 with 1 Axes>"
            ],
            "image/png": "[encoded data removed]"
          },
          "metadata": {}
        }
      ]
    },
    {
      "cell_type": "code",
      "source": [
        "kmeans.transform(X_scaled)"
      ],
      "metadata": {
        "colab": {
          "base_uri": "https://localhost:8080/"
        },
        "id": "BBNcR_yvxIq2",
        "outputId": "a8f14383-15f8-4267-982e-c495f994a3eb"
      },
      "execution_count": 71,
      "outputs": [
        {
          "output_type": "execute_result",
          "data": {
            "text/plain": [
              "array([[ 9.22626099, 10.27148671, 10.03650471,  5.20638095],\n",
              "       [10.51494477,  1.37325804, 10.31849736,  9.42390294],\n",
              "       [11.06835852, 10.78764843, 10.50478705,  5.64506838],\n",
              "       ...,\n",
              "       [ 1.63837588, 10.6343013 , 10.04750478,  8.85083428],\n",
              "       [10.99700716, 10.79571969, 10.58029926,  5.4595848 ],\n",
              "       [ 1.25821458, 10.48117426, 10.07784556,  8.69897706]])"
            ]
          },
          "metadata": {},
          "execution_count": 71
        }
      ]
    },
    {
      "cell_type": "markdown",
      "source": [
        "## Evaluating the Model"
      ],
      "metadata": {
        "id": "gosM0vQUzisO"
      }
    },
    {
      "cell_type": "markdown",
      "source": [
        "### Elbow Method"
      ],
      "metadata": {
        "id": "fFbaZBJjzmfS"
      }
    },
    {
      "cell_type": "code",
      "source": [
        "inertias = []\n",
        "for k in range(1, 11):\n",
        "  kmeans = KMeans(n_clusters=k,\n",
        "                  random_state=7)\n",
        "  kmeans.fit(X_scaled)\n",
        "  inertias.append(kmeans.inertia_)\n",
        "\n",
        "inertias"
      ],
      "metadata": {
        "colab": {
          "base_uri": "https://localhost:8080/"
        },
        "id": "oT3Np7-TzMQZ",
        "outputId": "0f6a2cb5-5077-4386-efa1-4c77b3b68342"
      },
      "execution_count": 72,
      "outputs": [
        {
          "output_type": "stream",
          "name": "stdout",
          "text": [
            "> The algorithm converged in 3 iterations\n",
            "> Successfully trained the K-Means model\n",
            "\n",
            "> The algorithm converged in 3 iterations\n",
            "> Successfully trained the K-Means model\n",
            "\n",
            "> The algorithm converged in 4 iterations\n",
            "> Successfully trained the K-Means model\n",
            "\n",
            "> The algorithm converged in 4 iterations\n",
            "> Successfully trained the K-Means model\n",
            "\n",
            "> The algorithm converged in 5 iterations\n",
            "> Successfully trained the K-Means model\n",
            "\n",
            "> The algorithm converged in 4 iterations\n",
            "> Successfully trained the K-Means model\n",
            "\n",
            "> The algorithm converged in 6 iterations\n",
            "> Successfully trained the K-Means model\n",
            "\n",
            "> The algorithm converged in 6 iterations\n",
            "> Successfully trained the K-Means model\n",
            "\n",
            "> The algorithm converged in 6 iterations\n",
            "> Successfully trained the K-Means model\n",
            "\n",
            "> The algorithm converged in 7 iterations\n",
            "> Successfully trained the K-Means model\n",
            "\n"
          ]
        },
        {
          "output_type": "execute_result",
          "data": {
            "text/plain": [
              "[np.float64(7.063945914795851),\n",
              " np.float64(5.988097182426431),\n",
              " np.float64(5.261245921177299),\n",
              " np.float64(3.9564809804489545),\n",
              " np.float64(2.616265860079041),\n",
              " np.float64(2.60592452992826),\n",
              " np.float64(2.5947552922535984),\n",
              " np.float64(2.5846942565926385),\n",
              " np.float64(1.4073425873095966),\n",
              " np.float64(1.3969976332978908)]"
            ]
          },
          "metadata": {},
          "execution_count": 72
        }
      ]
    },
    {
      "cell_type": "code",
      "source": [
        "plt.figure(figsize=(6, 4))\n",
        "plt.plot(range(1, len(inertias) + 1),\n",
        "         inertias,\n",
        "         marker=\"s\",\n",
        "         linewidth=2)\n",
        "plt.xticks(range(1, len(inertias) + 1))\n",
        "plt.xlabel(\"No. of Clusters (K)\")\n",
        "plt.ylabel(\"Inertia\")\n",
        "plt.title(\"Elbow Method\")\n",
        "plt.grid(True)\n",
        "plt.tight_layout()\n",
        "plt.show()"
      ],
      "metadata": {
        "colab": {
          "base_uri": "https://localhost:8080/",
          "height": 407
        },
        "id": "Y3hLoWkN0Gkl",
        "outputId": "1e01e35e-5f8b-4b38-cf54-9d6c73abcce7"
      },
      "execution_count": 73,
      "outputs": [
        {
          "output_type": "display_data",
          "data": {
            "text/plain": [
              "<Figure size 600x400 with 1 Axes>"
            ],
            "image/png": "[encoded data removed]"
          },
          "metadata": {}
        }
      ]
    },
    {
      "cell_type": "markdown",
      "source": [
        "- From the diagram, we can observe that the plot `elbow's` when K = 5\n",
        "- Usually, the `elbow` point is chosen as the optimal K\n",
        "- As K increases, inertia will always decrease"
      ],
      "metadata": {
        "id": "uwMMw-9C0yK1"
      }
    }
  ]
}