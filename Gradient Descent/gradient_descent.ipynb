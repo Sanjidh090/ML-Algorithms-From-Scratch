{
  "nbformat": 4,
  "nbformat_minor": 0,
  "metadata": {
    "colab": {
      "provenance": [],
      "include_colab_link": true
    },
    "kernelspec": {
      "name": "python3",
      "display_name": "Python 3"
    },
    "language_info": {
      "name": "python"
    }
  },
  "cells": [
    {
      "cell_type": "markdown",
      "metadata": {
        "id": "view-in-github",
        "colab_type": "text"
      },
      "source": [
        "<a href=\"https://colab.research.google.com/github/Sanjidh090/ML-Algorithms-From-Scratch/blob/main/Gradient%20Descent/gradient_descent.ipynb\" target=\"_parent\"><img src=\"https://colab.research.google.com/assets/colab-badge.svg\" alt=\"Open In Colab\"/></a>"
      ]
    },
    {
      "cell_type": "markdown",
      "source": [
        "# Gradient Descent\n",
        "- This notebook contains the code to implement the following variants of the Gradient Descent Algorithms from scratch:\n",
        " - Batch Gradient Descent\n",
        " - Mini-batch Gradient Descent\n",
        " - Stochastic Gradient Descent\n",
        "- The aim of this notebook is to perform a comparitive study about the aforementioned algorithms using visualizations"
      ],
      "metadata": {
        "id": "OIU6EhPI_ajv"
      }
    },
    {
      "cell_type": "markdown",
      "source": [
        "## Importing Libraries"
      ],
      "metadata": {
        "id": "UTVA7rWo_578"
      }
    },
    {
      "cell_type": "code",
      "execution_count": 1,
      "metadata": {
        "id": "jE1F7NhN_Xbh"
      },
      "outputs": [],
      "source": [
        "# data manipulation\n",
        "import numpy as np\n",
        "import pandas as pd\n",
        "\n",
        "# visualization\n",
        "import matplotlib.pyplot as plt\n",
        "\n",
        "# dataset\n",
        "from sklearn.datasets import fetch_california_housing\n",
        "from sklearn.model_selection import train_test_split"
      ]
    },
    {
      "cell_type": "markdown",
      "source": [
        "## Custom Class"
      ],
      "metadata": {
        "id": "Vpe7WSObAEX2"
      }
    },
    {
      "cell_type": "code",
      "source": [
        "class StandardScaler:\n",
        "\n",
        "  def __init__(self):\n",
        "    pass\n",
        "\n",
        "\n",
        "  def fit(self, X, y=None):\n",
        "    self.means_ = np.mean(X, axis=0)\n",
        "    self.std_ = np.std(X, axis=0)\n",
        "    return self\n",
        "\n",
        "\n",
        "  def transform(self, X):\n",
        "    return (X - self.means_) / self.std_\n",
        "\n",
        "\n",
        "  def inverse_transform(self, X):\n",
        "    return (X * self.std_) + self.means_"
      ],
      "metadata": {
        "id": "HsUeZwxfvDbF"
      },
      "execution_count": 2,
      "outputs": []
    },
    {
      "cell_type": "code",
      "source": [
        "class BatchGD:\n",
        "\n",
        "  def __init__(self,\n",
        "               eta=1.0,\n",
        "               eta_d=50,\n",
        "               n_epochs=100,\n",
        "               random_state=None):\n",
        "    \"\"\"\n",
        "    Parameters:\n",
        "    -----------\n",
        "\n",
        "    eta: float\n",
        "         Learning rate for gradient descent\n",
        "\n",
        "    eta_d: int\n",
        "           Used in learning schedule for updating the learning rate for gradient descent\n",
        "\n",
        "    n_epochs: int\n",
        "              The no. of times to iterate over the entire dataset for gradient descent\n",
        "\n",
        "    random_state: int\n",
        "                  For controlling the randomness and reproducibility of results across multiple runs\n",
        "    \"\"\"\n",
        "    self.eta = eta\n",
        "    self.eta_d = eta_d\n",
        "    self.n_epochs = n_epochs\n",
        "    self.random_state = random_state\n",
        "\n",
        "\n",
        "  def _learning_schedule(self, i):\n",
        "    return self.eta / (self.eta_d + i)\n",
        "\n",
        "\n",
        "  def fit(self, X, y):\n",
        "    if self.random_state:\n",
        "      np.random.seed(self.random_state)\n",
        "\n",
        "    n, p = X.shape\n",
        "    self.b_ = np.random.rand()\n",
        "    self.w_ = np.random.rand(p)\n",
        "    self.thetas_ = []\n",
        "\n",
        "    for i in range(self.n_epochs):\n",
        "      y_hat = np.dot(X, self.w_) + self.b_\n",
        "      errors = y - y_hat\n",
        "\n",
        "      # computing the gradients\n",
        "      dJ_dw = (-1 / n) * np.dot(X.T, errors)\n",
        "      dJ_db = -errors.mean()\n",
        "\n",
        "      # updating the weights\n",
        "      alpha = self._learning_schedule(i + 1)\n",
        "      self.w_ -= (alpha * dJ_dw)\n",
        "      self.b_ -= (alpha * dJ_db)\n",
        "\n",
        "      self.thetas_.append([self.b_, self.w_[0]])\n",
        "\n",
        "    return self"
      ],
      "metadata": {
        "id": "09Gz0oLz_9kb"
      },
      "execution_count": 3,
      "outputs": []
    },
    {
      "cell_type": "code",
      "source": [
        "class StochasticGD:\n",
        "\n",
        "  def __init__(self,\n",
        "               eta=1.0,\n",
        "               eta_d=50,\n",
        "               n_iter=100,\n",
        "               random_state=None):\n",
        "    \"\"\"\n",
        "    Parameters:\n",
        "    -----------\n",
        "\n",
        "    eta: float\n",
        "         Learning rate for gradient descent\n",
        "\n",
        "    eta_d: int\n",
        "           Used in learning schedule for updating the learning rate for gradient descent\n",
        "\n",
        "    n_iter: int\n",
        "            The total no. of iterations to run the gradient descent algorithm\n",
        "\n",
        "    random_state: int\n",
        "                  For controlling the randomness and reproducibility of results across multiple runs\n",
        "    \"\"\"\n",
        "    self.eta = eta\n",
        "    self.eta_d = eta_d\n",
        "    self.n_iter = n_iter\n",
        "    self.random_state = random_state\n",
        "\n",
        "\n",
        "  def _learning_schedule(self, i):\n",
        "    return self.eta / (self.eta_d + i)\n",
        "\n",
        "\n",
        "  def fit(self, X, y):\n",
        "    if self.random_state:\n",
        "      np.random.seed(self.random_state)\n",
        "\n",
        "    n, p = X.shape\n",
        "    self.b_ = np.random.rand()\n",
        "    self.w_ = np.random.rand(p)\n",
        "    self.thetas_ = []\n",
        "\n",
        "    for i in range(self.n_iter):\n",
        "      # selecting an observation at random\n",
        "      ix = np.random.randint(n)\n",
        "      X_sgd = X[ix]\n",
        "      y_sgd = y[ix]\n",
        "\n",
        "      y_hat = np.dot(X_sgd, self.w_) + self.b_\n",
        "      error = y_sgd - y_hat\n",
        "\n",
        "      # computing the gradients\n",
        "      dJ_dw = -(error * X_sgd)\n",
        "      dJ_db = -error\n",
        "\n",
        "      # updating the weights\n",
        "      alpha = self._learning_schedule(i + 1)\n",
        "      self.w_ -= (alpha * dJ_dw)\n",
        "      self.b_ -= (alpha * dJ_db)\n",
        "\n",
        "      self.thetas_.append([self.b_, self.w_[0]])\n",
        "\n",
        "    return self"
      ],
      "metadata": {
        "id": "10uOIN2bAM0k"
      },
      "execution_count": 4,
      "outputs": []
    },
    {
      "cell_type": "code",
      "source": [
        "class MiniBatchGD:\n",
        "\n",
        "  def __init__(self,\n",
        "               k=10,\n",
        "               eta=1.0,\n",
        "               eta_d=50,\n",
        "               n_iter=50,\n",
        "               random_state=None):\n",
        "    \"\"\"\n",
        "    Parameters:\n",
        "    -----------\n",
        "\n",
        "    k: int\n",
        "       Size of each batch\n",
        "\n",
        "    eta: float\n",
        "         Learning rate for gradient descent\n",
        "\n",
        "    eta_d: int\n",
        "           Used in learning schedule for updating the learning rate for gradient descent\n",
        "\n",
        "    n_iter: int\n",
        "            The total no. of iterations to run the gradient descent algorithm\n",
        "\n",
        "    random_state: int\n",
        "                  For controlling the randomness and reproducibility of results across multiple runs\n",
        "    \"\"\"\n",
        "    self.k = k\n",
        "    self.eta = eta\n",
        "    self.eta_d = eta_d\n",
        "    self.n_iter = n_iter\n",
        "    self.random_state = random_state\n",
        "\n",
        "\n",
        "  def _learning_schedule(self, i):\n",
        "    return self.eta / (self.eta_d + i)\n",
        "\n",
        "\n",
        "  def fit(self, X, y):\n",
        "    if self.random_state:\n",
        "      np.random.seed(self.random_state)\n",
        "\n",
        "    n, p = X.shape\n",
        "    self.b_ = np.random.rand()\n",
        "    self.w_ = np.random.rand(p)\n",
        "    self.thetas_ = []\n",
        "\n",
        "    for i in range(self.n_iter):\n",
        "      # generating the batch\n",
        "      random_indices = np.random.choice(n,\n",
        "                                        size=self.k,\n",
        "                                        replace=False)\n",
        "      X_batch = X[random_indices]\n",
        "      y_batch = y[random_indices]\n",
        "\n",
        "      y_hat = np.dot(X_batch, self.w_) + self.b_\n",
        "      errors = y_batch - y_hat\n",
        "\n",
        "      # computing the gradients\n",
        "      dJ_dw = (-1 / self.k) * np.dot(X_batch.T, errors)\n",
        "      dJ_db = -errors.mean()\n",
        "\n",
        "      # updating the weights\n",
        "      alpha = self._learning_schedule(i + 1)\n",
        "      self.w_ -= (alpha * dJ_dw)\n",
        "      self.b_ -= (alpha * dJ_db)\n",
        "\n",
        "      self.thetas_.append([self.b_, self.w_[0]])\n",
        "\n",
        "    return self"
      ],
      "metadata": {
        "id": "WxUcxyOFAJXr"
      },
      "execution_count": 5,
      "outputs": []
    },
    {
      "cell_type": "markdown",
      "source": [
        "## Getting the Data"
      ],
      "metadata": {
        "id": "IIMq_gToAtG1"
      }
    },
    {
      "cell_type": "code",
      "source": [
        "X, y = fetch_california_housing(return_X_y=True, as_frame=True)\n",
        "\n",
        "X_train, X_test, y_train, y_test = train_test_split(X.iloc[:, [0]].values,\n",
        "                                                    y.values,\n",
        "                                                    test_size=0.2,\n",
        "                                                    random_state=7)\n",
        "\n",
        "print(X_train.shape, y_train.shape)\n",
        "print(X_test.shape, y_test.shape)"
      ],
      "metadata": {
        "colab": {
          "base_uri": "https://localhost:8080/"
        },
        "id": "XEY7iKEkAMAd",
        "outputId": "1fabea6f-58a9-483d-9f52-f5a24c73435c"
      },
      "execution_count": 6,
      "outputs": [
        {
          "output_type": "stream",
          "name": "stdout",
          "text": [
            "(16512, 1) (16512,)\n",
            "(4128, 1) (4128,)\n"
          ]
        }
      ]
    },
    {
      "cell_type": "markdown",
      "source": [
        "- We're using a single feature for convenient visualization of results"
      ],
      "metadata": {
        "id": "3_xa0PwFLRnr"
      }
    },
    {
      "cell_type": "markdown",
      "source": [
        "## Scaling the Data"
      ],
      "metadata": {
        "id": "sTA6WrBevGcK"
      }
    },
    {
      "cell_type": "code",
      "source": [
        "scaler = StandardScaler()\n",
        "scaler.fit(X_train)"
      ],
      "metadata": {
        "colab": {
          "base_uri": "https://localhost:8080/"
        },
        "id": "6ksfYYcIvGIL",
        "outputId": "70f6d8fa-6472-47cf-9a7e-ac706da8ba84"
      },
      "execution_count": 7,
      "outputs": [
        {
          "output_type": "execute_result",
          "data": {
            "text/plain": [
              "<__main__.StandardScaler at 0x7bfc9ca5e810>"
            ]
          },
          "metadata": {},
          "execution_count": 7
        }
      ]
    },
    {
      "cell_type": "code",
      "source": [
        "X_train_scaled = scaler.transform(X_train)\n",
        "X_test_scaled = scaler.transform(X_test)"
      ],
      "metadata": {
        "id": "RUfd9L__vQVv"
      },
      "execution_count": 8,
      "outputs": []
    },
    {
      "cell_type": "markdown",
      "source": [
        "### Batch G.D."
      ],
      "metadata": {
        "id": "BQlfpq2sb7y1"
      }
    },
    {
      "cell_type": "code",
      "source": [
        "batch_gd = BatchGD(n_epochs=100)\n",
        "batch_gd.fit(X_train_scaled, y_train)"
      ],
      "metadata": {
        "colab": {
          "base_uri": "https://localhost:8080/"
        },
        "id": "8whZFAA4b-Dp",
        "outputId": "65531673-c296-4195-87d9-28bc167d5fc5"
      },
      "execution_count": 9,
      "outputs": [
        {
          "output_type": "execute_result",
          "data": {
            "text/plain": [
              "<__main__.BatchGD at 0x7bfc47028150>"
            ]
          },
          "metadata": {},
          "execution_count": 9
        }
      ]
    },
    {
      "cell_type": "code",
      "source": [
        "batch_gd.w_"
      ],
      "metadata": {
        "colab": {
          "base_uri": "https://localhost:8080/"
        },
        "id": "hp5zKT_gvWz2",
        "outputId": "d92b4e1d-6987-4056-f46f-9c958966b476"
      },
      "execution_count": 10,
      "outputs": [
        {
          "output_type": "execute_result",
          "data": {
            "text/plain": [
              "array([0.58162604])"
            ]
          },
          "metadata": {},
          "execution_count": 10
        }
      ]
    },
    {
      "cell_type": "code",
      "source": [
        "batch_gd.b_"
      ],
      "metadata": {
        "colab": {
          "base_uri": "https://localhost:8080/"
        },
        "id": "ChB2XbD1b-AO",
        "outputId": "bb68bfcc-145f-40ea-9d70-79591e937fdf"
      },
      "execution_count": 11,
      "outputs": [
        {
          "output_type": "execute_result",
          "data": {
            "text/plain": [
              "np.float64(1.4043160267865664)"
            ]
          },
          "metadata": {},
          "execution_count": 11
        }
      ]
    },
    {
      "cell_type": "code",
      "source": [
        "bgd_path = np.array(batch_gd.thetas_)"
      ],
      "metadata": {
        "id": "GXDYpJowxLFt"
      },
      "execution_count": 13,
      "outputs": []
    },
    {
      "cell_type": "markdown",
      "source": [
        "### Stochastic G.D."
      ],
      "metadata": {
        "id": "aj4h47Vvb7k8"
      }
    },
    {
      "cell_type": "code",
      "source": [
        "stochastic_gd = StochasticGD(n_iter=100)\n",
        "stochastic_gd.fit(X_train_scaled, y_train)"
      ],
      "metadata": {
        "colab": {
          "base_uri": "https://localhost:8080/"
        },
        "id": "lDARW1SOvgrl",
        "outputId": "7f2b38ed-6a8b-4aad-8735-99a315f3ae3a"
      },
      "execution_count": 14,
      "outputs": [
        {
          "output_type": "execute_result",
          "data": {
            "text/plain": [
              "<__main__.StochasticGD at 0x7bfc4702b1d0>"
            ]
          },
          "metadata": {},
          "execution_count": 14
        }
      ]
    },
    {
      "cell_type": "code",
      "source": [
        "stochastic_gd.w_"
      ],
      "metadata": {
        "colab": {
          "base_uri": "https://localhost:8080/"
        },
        "id": "F7HgI-c8b-6V",
        "outputId": "931b11b1-38be-42fd-aa07-6f75958f6b10"
      },
      "execution_count": 15,
      "outputs": [
        {
          "output_type": "execute_result",
          "data": {
            "text/plain": [
              "array([0.76395061])"
            ]
          },
          "metadata": {},
          "execution_count": 15
        }
      ]
    },
    {
      "cell_type": "code",
      "source": [
        "stochastic_gd.b_"
      ],
      "metadata": {
        "colab": {
          "base_uri": "https://localhost:8080/"
        },
        "id": "bBwg-FKFb-2x",
        "outputId": "0d414ffc-431a-4e3b-fbe7-f860d8800b6a"
      },
      "execution_count": 16,
      "outputs": [
        {
          "output_type": "execute_result",
          "data": {
            "text/plain": [
              "np.float64(1.5555084691466923)"
            ]
          },
          "metadata": {},
          "execution_count": 16
        }
      ]
    },
    {
      "cell_type": "code",
      "source": [
        "sgd_path = np.array(stochastic_gd.thetas_)"
      ],
      "metadata": {
        "id": "kzaJyqf5w26x"
      },
      "execution_count": 17,
      "outputs": []
    },
    {
      "cell_type": "markdown",
      "source": [
        "### Mini-batch G.D."
      ],
      "metadata": {
        "id": "0fw1wyxIb661"
      }
    },
    {
      "cell_type": "code",
      "source": [
        "minibatch_gd = MiniBatchGD(k=50, n_iter=100)\n",
        "minibatch_gd.fit(X_train_scaled, y_train)"
      ],
      "metadata": {
        "colab": {
          "base_uri": "https://localhost:8080/"
        },
        "id": "W-O0yqH_vhPm",
        "outputId": "a56e582e-a8cb-4a4a-d453-d972493c72a6"
      },
      "execution_count": 18,
      "outputs": [
        {
          "output_type": "execute_result",
          "data": {
            "text/plain": [
              "<__main__.MiniBatchGD at 0x7bfc46f7fb10>"
            ]
          },
          "metadata": {},
          "execution_count": 18
        }
      ]
    },
    {
      "cell_type": "code",
      "source": [
        "minibatch_gd.w_"
      ],
      "metadata": {
        "colab": {
          "base_uri": "https://localhost:8080/"
        },
        "id": "vpu9kbkfA2gy",
        "outputId": "515335d6-6830-4576-dc1d-35734a629979"
      },
      "execution_count": 19,
      "outputs": [
        {
          "output_type": "execute_result",
          "data": {
            "text/plain": [
              "array([0.67751187])"
            ]
          },
          "metadata": {},
          "execution_count": 19
        }
      ]
    },
    {
      "cell_type": "code",
      "source": [
        "minibatch_gd.b_"
      ],
      "metadata": {
        "colab": {
          "base_uri": "https://localhost:8080/"
        },
        "id": "6duOyHDycAr4",
        "outputId": "71fdde77-39a1-4388-e446-ab285f433905"
      },
      "execution_count": 20,
      "outputs": [
        {
          "output_type": "execute_result",
          "data": {
            "text/plain": [
              "np.float64(1.6463404381379776)"
            ]
          },
          "metadata": {},
          "execution_count": 20
        }
      ]
    },
    {
      "cell_type": "code",
      "source": [
        "mbgd_path = np.array(minibatch_gd.thetas_)"
      ],
      "metadata": {
        "id": "xwMBh3d4xFOZ"
      },
      "execution_count": 21,
      "outputs": []
    },
    {
      "cell_type": "markdown",
      "source": [
        "## Analyzing Results"
      ],
      "metadata": {
        "id": "qK1vE17GcBP5"
      }
    },
    {
      "cell_type": "code",
      "source": [
        "def plot_path(thetas):\n",
        "  plt.plot(thetas[:, 0],\n",
        "           thetas[:, 1],\n",
        "           marker=\"s\",\n",
        "           color=\"lightgreen\")\n",
        "\n",
        "  plt.scatter(thetas[0, 0],\n",
        "              thetas[0, 1],\n",
        "              s=100,\n",
        "              color=\"black\",\n",
        "              marker=\"o\",\n",
        "              label=\"Start\",\n",
        "              zorder=2)\n",
        "\n",
        "  plt.scatter(thetas[-1, 0],\n",
        "              thetas[-1, 1],\n",
        "              s=100,\n",
        "              color=\"red\",\n",
        "              marker=\"o\",\n",
        "              label=\"End\",\n",
        "              zorder=2)\n",
        "\n",
        "  plt.xlabel(\"$w_1$\")\n",
        "  plt.ylabel(\"$w_2$\", rotation=0, labelpad=15)\n",
        "  plt.grid(True)"
      ],
      "metadata": {
        "id": "-C3VWVmCxSFR"
      },
      "execution_count": 22,
      "outputs": []
    },
    {
      "cell_type": "code",
      "source": [
        "plt.figure(figsize=(13, 4))\n",
        "\n",
        "plt.subplot(1, 3, 1)\n",
        "plot_path(bgd_path)\n",
        "plt.title(\"Batch G.D.\")\n",
        "plt.legend(loc=\"upper left\")\n",
        "\n",
        "plt.subplot(1, 3, 2)\n",
        "plot_path(sgd_path)\n",
        "plt.title(\"Stochastic G.D.\")\n",
        "\n",
        "plt.subplot(1, 3, 3)\n",
        "plot_path(mbgd_path)\n",
        "plt.title(\"Mini-batch G.D.\")\n",
        "\n",
        "plt.tight_layout()\n",
        "plt.show()"
      ],
      "metadata": {
        "colab": {
          "base_uri": "https://localhost:8080/",
          "height": 400
        },
        "id": "MVVJd8nvcDAs",
        "outputId": "47a0af35-deaa-4cb3-ad28-a145ea620910"
      },
      "execution_count": 23,
      "outputs": [
        {
          "output_type": "display_data",
          "data": {
            "text/plain": [
              "<Figure size 1300x400 with 3 Axes>"
            ],
            "image/png": "[encoded data removed]"
          },
          "metadata": {}
        }
      ]
    },
    {
      "cell_type": "code",
      "source": [
        "(pd\n",
        " .DataFrame({\"w\": [batch_gd.w_[0], stochastic_gd.w_[0], minibatch_gd.w_[0]],\n",
        "             \"b\": [batch_gd.b_, stochastic_gd.b_, minibatch_gd.b_]},\n",
        "            index=[\"Batch\", \"Stochastic\", \"Mini-batch\"])\n",
        " .style\n",
        " .format(\"{:.3f}\"))"
      ],
      "metadata": {
        "colab": {
          "base_uri": "https://localhost:8080/",
          "height": 143
        },
        "id": "rjjEujtpyHeV",
        "outputId": "a6090f7b-9e2f-43ad-aea2-7f9b2df5e595"
      },
      "execution_count": 24,
      "outputs": [
        {
          "output_type": "execute_result",
          "data": {
            "text/plain": [
              "<pandas.io.formats.style.Styler at 0x7bfc44b7ac90>"
            ],
            "text/html": [
              "<style type=\"text/css\">\n",
              "</style>\n",
              "<table id=\"T_0098c\" class=\"dataframe\">\n",
              "  <thead>\n",
              "    <tr>\n",
              "      <th class=\"blank level0\" >&nbsp;</th>\n",
              "      <th id=\"T_0098c_level0_col0\" class=\"col_heading level0 col0\" >w</th>\n",
              "      <th id=\"T_0098c_level0_col1\" class=\"col_heading level0 col1\" >b</th>\n",
              "    </tr>\n",
              "  </thead>\n",
              "  <tbody>\n",
              "    <tr>\n",
              "      <th id=\"T_0098c_level0_row0\" class=\"row_heading level0 row0\" >Batch</th>\n",
              "      <td id=\"T_0098c_row0_col0\" class=\"data row0 col0\" >0.582</td>\n",
              "      <td id=\"T_0098c_row0_col1\" class=\"data row0 col1\" >1.404</td>\n",
              "    </tr>\n",
              "    <tr>\n",
              "      <th id=\"T_0098c_level0_row1\" class=\"row_heading level0 row1\" >Stochastic</th>\n",
              "      <td id=\"T_0098c_row1_col0\" class=\"data row1 col0\" >0.764</td>\n",
              "      <td id=\"T_0098c_row1_col1\" class=\"data row1 col1\" >1.556</td>\n",
              "    </tr>\n",
              "    <tr>\n",
              "      <th id=\"T_0098c_level0_row2\" class=\"row_heading level0 row2\" >Mini-batch</th>\n",
              "      <td id=\"T_0098c_row2_col0\" class=\"data row2 col0\" >0.678</td>\n",
              "      <td id=\"T_0098c_row2_col1\" class=\"data row2 col1\" >1.646</td>\n",
              "    </tr>\n",
              "  </tbody>\n",
              "</table>\n"
            ]
          },
          "metadata": {},
          "execution_count": 24
        }
      ]
    },
    {
      "cell_type": "markdown",
      "source": [
        "## Final Remarks\n",
        "\n",
        "- Through visualizations, it's quite clear that:\n",
        " - The path of Batch G.D. is very smooth, because it utilizes the entire dataset in each iteration\n",
        " - The path of Stochastic G.D. is very irregular and rightly so; as it uses a single observation in each iteration selected randomly\n",
        " - The path of Mini-batch G.D. is smoother than that of Stochastic G.D. but not as much as that of Batch G.D.\n",
        "\n",
        "- The model coefficients are displayed in a Pandas Dataframe for all the 3 models\n",
        " - The results are almost similar\n",
        " - The results can be further analyzed upon varying the hyperparameters of the algorithms"
      ],
      "metadata": {
        "id": "_7ydI32L7eKT"
      }
    }
  ]
}